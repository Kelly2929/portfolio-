{
 "cells": [
  {
   "cell_type": "code",
   "execution_count": 2,
   "id": "c0b72cda",
   "metadata": {},
   "outputs": [],
   "source": [
    "import pandas as pd"
   ]
  },
  {
   "cell_type": "code",
   "execution_count": 7,
   "id": "b4ea6c27",
   "metadata": {},
   "outputs": [],
   "source": [
    "chipo = pd.read_csv(r\"C:\\Users\\Laura\\Documents\\Kelly\\portfolio\\week5\\chipotle.tsv\",sep='\\t')"
   ]
  },
  {
   "cell_type": "code",
   "execution_count": 8,
   "id": "986e9a06",
   "metadata": {},
   "outputs": [],
   "source": [
    "first_10_rows = chipo.head(10)"
   ]
  },
  {
   "cell_type": "code",
   "execution_count": 9,
   "id": "b60c4ac7",
   "metadata": {},
   "outputs": [],
   "source": [
    "total_entries = chipo.shape[0]\n"
   ]
  },
  {
   "cell_type": "code",
   "execution_count": 11,
   "id": "e5f1ef44",
   "metadata": {},
   "outputs": [],
   "source": [
    "total_columns = chipo.shape[1]"
   ]
  },
  {
   "cell_type": "code",
   "execution_count": 12,
   "id": "11bf83f7",
   "metadata": {},
   "outputs": [],
   "source": [
    "column_names = chipo.columns"
   ]
  },
  {
   "cell_type": "code",
   "execution_count": 13,
   "id": "6b7a5ded",
   "metadata": {},
   "outputs": [],
   "source": [
    "index_info = chipo.index\n"
   ]
  },
  {
   "cell_type": "code",
   "execution_count": 14,
   "id": "819c4b6b",
   "metadata": {},
   "outputs": [],
   "source": [
    "most_ordered_item = chipo['item_name'].value_counts().idxmax()\n"
   ]
  },
  {
   "cell_type": "code",
   "execution_count": 15,
   "id": "93898af6",
   "metadata": {},
   "outputs": [],
   "source": [
    "total_items_ordered = chipo['quantity'].sum()\n"
   ]
  },
  {
   "cell_type": "code",
   "execution_count": 16,
   "id": "38ba62dc",
   "metadata": {},
   "outputs": [],
   "source": [
    "most_ordered_choice = chipo['choice_description'].value_counts().idxmax()\n"
   ]
  },
  {
   "cell_type": "code",
   "execution_count": 17,
   "id": "37517ad0",
   "metadata": {},
   "outputs": [],
   "source": [
    "chipo['item_price'] = chipo['item_price'].apply(lambda x: float(x.replace('$', '')))\n"
   ]
  },
  {
   "cell_type": "code",
   "execution_count": 18,
   "id": "71b0e935",
   "metadata": {},
   "outputs": [],
   "source": [
    "total_revenue = chipo['item_price'].sum()\n"
   ]
  },
  {
   "cell_type": "code",
   "execution_count": 19,
   "id": "596b6ea2",
   "metadata": {},
   "outputs": [],
   "source": [
    "total_orders = chipo['order_id'].nunique()"
   ]
  },
  {
   "cell_type": "code",
   "execution_count": 20,
   "id": "def51c8e",
   "metadata": {},
   "outputs": [],
   "source": [
    "average_order_value = total_revenue / total_orders\n"
   ]
  },
  {
   "cell_type": "code",
   "execution_count": 21,
   "id": "76b0be5c",
   "metadata": {},
   "outputs": [],
   "source": [
    "unique_items_sold = chipo['item_name'].nunique()"
   ]
  },
  {
   "cell_type": "code",
   "execution_count": 22,
   "id": "6d40d278",
   "metadata": {},
   "outputs": [
    {
     "data": {
      "text/plain": [
       "1130"
      ]
     },
     "execution_count": 22,
     "metadata": {},
     "output_type": "execute_result"
    }
   ],
   "source": [
    "products_above_10 = chipo[chipo['item_price'] > 10].shape[0]\n",
    "products_above_10"
   ]
  },
  {
   "cell_type": "markdown",
   "id": "dc2ae628",
   "metadata": {},
   "source": [
    "EXERCICE 3"
   ]
  },
  {
   "cell_type": "code",
   "execution_count": 29,
   "id": "4a7754f3",
   "metadata": {},
   "outputs": [
    {
     "data": {
      "text/plain": [
       "occupation\n",
       "administrator    38.746835\n",
       "artist           31.392857\n",
       "doctor           43.571429\n",
       "educator         42.010526\n",
       "engineer         36.388060\n",
       "entertainment    29.222222\n",
       "executive        38.718750\n",
       "healthcare       41.562500\n",
       "homemaker        32.571429\n",
       "lawyer           36.750000\n",
       "librarian        40.000000\n",
       "marketing        37.615385\n",
       "none             26.555556\n",
       "other            34.523810\n",
       "programmer       33.121212\n",
       "retired          63.071429\n",
       "salesman         35.666667\n",
       "scientist        35.548387\n",
       "student          22.081633\n",
       "technician       33.148148\n",
       "writer           36.311111\n",
       "Name: age, dtype: float64"
      ]
     },
     "execution_count": 29,
     "metadata": {},
     "output_type": "execute_result"
    }
   ],
   "source": [
    "file_path = r\"C:\\Users\\Laura\\Documents\\Kelly\\portfolio\\week5\\u.user\"\n",
    "users = pd.read_csv(file_path, sep='|')\n",
    "mean_age_per_occupation = users.groupby('occupation')['age'].mean()\n",
    "mean_age_per_occupation"
   ]
  },
  {
   "cell_type": "code",
   "execution_count": 30,
   "id": "875e04c2",
   "metadata": {},
   "outputs": [],
   "source": [
    "data1 = pd.DataFrame({\n",
    "    'ID': [1, 2, 3, 4],\n",
    "    'Name': ['Alice', 'Bob', 'Charlie', 'David']\n",
    "})"
   ]
  },
  {
   "cell_type": "code",
   "execution_count": 31,
   "id": "21e88d98",
   "metadata": {},
   "outputs": [],
   "source": [
    "data2 = pd.DataFrame({\n",
    "    'ID': [5, 6, 7, 8],\n",
    "    'Name': ['Eva', 'Frank', 'Grace', 'Helen']\n",
    "})\n"
   ]
  },
  {
   "cell_type": "code",
   "execution_count": 32,
   "id": "8c4421c5",
   "metadata": {},
   "outputs": [],
   "source": [
    "data3 = pd.DataFrame({\n",
    "    'ID': [1, 2, 3, 4],\n",
    "    'Score': [90, 85, 88, 92]\n",
    "})\n"
   ]
  },
  {
   "cell_type": "code",
   "execution_count": 33,
   "id": "aea51351",
   "metadata": {},
   "outputs": [],
   "source": [
    "all_data = pd.concat([data1, data2])"
   ]
  },
  {
   "cell_type": "code",
   "execution_count": 34,
   "id": "dd80d458",
   "metadata": {},
   "outputs": [
    {
     "data": {
      "text/plain": [
       "(   ID     Name\n",
       " 0   1    Alice\n",
       " 1   2      Bob\n",
       " 2   3  Charlie\n",
       " 3   4    David\n",
       " 0   5      Eva\n",
       " 1   6    Frank\n",
       " 2   7    Grace\n",
       " 3   8    Helen,\n",
       "    ID     Name  ID   Name\n",
       " 0   1    Alice   5    Eva\n",
       " 1   2      Bob   6  Frank\n",
       " 2   3  Charlie   7  Grace\n",
       " 3   4    David   8  Helen)"
      ]
     },
     "execution_count": 34,
     "metadata": {},
     "output_type": "execute_result"
    }
   ],
   "source": [
    "all_data_col = pd.concat([data1, data2], axis=1)\n",
    "\n",
    "all_data, all_data_col"
   ]
  },
  {
   "cell_type": "markdown",
   "id": "f71d16c8",
   "metadata": {},
   "source": [
    "  EX 5\n",
    "  "
   ]
  },
  {
   "cell_type": "code",
   "execution_count": 42,
   "id": "697264c9",
   "metadata": {},
   "outputs": [],
   "source": [
    "import pandas as pd\n",
    "\n",
    "file_path = r\" C:\\Users\\Laura\\Documents\\Kelly\\portfolio\\week5\\iris.data\""
   ]
  },
  {
   "cell_type": "code",
   "execution_count": 36,
   "id": "91550fc3",
   "metadata": {},
   "outputs": [],
   "source": [
    "data = {\n",
    "    'sepal_length': [5.1, 4.9, 4.7, 4.6, 5.0],\n",
    "    'sepal_width': [3.5, 3.0, 3.2, 3.1, 3.6],\n",
    "    'petal_length': [1.4, 1.4, 1.3, 1.5, 1.4],\n",
    "    'petal_width': [0.2, 0.2, 0.2, 0.2, 0.2],\n",
    "    'species': ['setosa', 'setosa', 'setosa', 'setosa', 'setosa']\n",
    "}"
   ]
  },
  {
   "cell_type": "code",
   "execution_count": 37,
   "id": "cbaf7d01",
   "metadata": {},
   "outputs": [],
   "source": [
    "iris = pd.DataFrame(data)\n"
   ]
  },
  {
   "cell_type": "code",
   "execution_count": 38,
   "id": "88aeb9ba",
   "metadata": {},
   "outputs": [],
   "source": [
    "iris.columns = ['sepal_length', 'sepal_width', 'petal_length', 'petal_width', 'species']\n"
   ]
  },
  {
   "cell_type": "code",
   "execution_count": 39,
   "id": "616084ca",
   "metadata": {},
   "outputs": [],
   "source": [
    "missing_values = iris.isnull().sum()"
   ]
  },
  {
   "cell_type": "markdown",
   "id": "9e87e400",
   "metadata": {},
   "source": [
    "EX 6\n"
   ]
  },
  {
   "cell_type": "code",
   "execution_count": 51,
   "id": "d86d9f21",
   "metadata": {},
   "outputs": [
    {
     "data": {
      "text/html": [
       "<div>\n",
       "<style scoped>\n",
       "    .dataframe tbody tr th:only-of-type {\n",
       "        vertical-align: middle;\n",
       "    }\n",
       "\n",
       "    .dataframe tbody tr th {\n",
       "        vertical-align: top;\n",
       "    }\n",
       "\n",
       "    .dataframe thead th {\n",
       "        text-align: right;\n",
       "    }\n",
       "</style>\n",
       "<table border=\"1\" class=\"dataframe\">\n",
       "  <thead>\n",
       "    <tr style=\"text-align: right;\">\n",
       "      <th></th>\n",
       "      <th>name</th>\n",
       "      <th>type</th>\n",
       "      <th>hp</th>\n",
       "      <th>evolution</th>\n",
       "      <th>pokedex</th>\n",
       "    </tr>\n",
       "  </thead>\n",
       "  <tbody>\n",
       "    <tr>\n",
       "      <th>0</th>\n",
       "      <td>Bulbasaur</td>\n",
       "      <td>grass</td>\n",
       "      <td>45</td>\n",
       "      <td>Ivysaur</td>\n",
       "      <td>yes</td>\n",
       "    </tr>\n",
       "    <tr>\n",
       "      <th>1</th>\n",
       "      <td>Charmander</td>\n",
       "      <td>fire</td>\n",
       "      <td>39</td>\n",
       "      <td>Charmeleon</td>\n",
       "      <td>no</td>\n",
       "    </tr>\n",
       "    <tr>\n",
       "      <th>2</th>\n",
       "      <td>Squirtle</td>\n",
       "      <td>water</td>\n",
       "      <td>44</td>\n",
       "      <td>Wartortle</td>\n",
       "      <td>yes</td>\n",
       "    </tr>\n",
       "    <tr>\n",
       "      <th>3</th>\n",
       "      <td>Caterpie</td>\n",
       "      <td>bug</td>\n",
       "      <td>45</td>\n",
       "      <td>Metapod</td>\n",
       "      <td>no</td>\n",
       "    </tr>\n",
       "  </tbody>\n",
       "</table>\n",
       "</div>"
      ],
      "text/plain": [
       "         name   type  hp   evolution pokedex\n",
       "0   Bulbasaur  grass  45     Ivysaur     yes\n",
       "1  Charmander   fire  39  Charmeleon      no\n",
       "2    Squirtle  water  44   Wartortle     yes\n",
       "3    Caterpie    bug  45     Metapod      no"
      ]
     },
     "execution_count": 51,
     "metadata": {},
     "output_type": "execute_result"
    }
   ],
   "source": [
    "import pandas as pd\n",
    "\n",
    "pokemon_data = {\n",
    "    'evolution': ['Ivysaur', 'Charmeleon', 'Wartortle', 'Metapod'],\n",
    "    'hp': [45, 39, 44, 45],\n",
    "    'name': ['Bulbasaur', 'Charmander', 'Squirtle', 'Caterpie'],\n",
    "    'pokedex': ['yes', 'no', 'yes', 'no'],\n",
    "    'type': ['grass', 'fire', 'water', 'bug']\n",
    "}\n",
    "\n",
    "pokemon = pd.DataFrame(pokemon_data)\n",
    "\n",
    "pokemon = pokemon[['name', 'type', 'hp', 'evolution', 'pokedex']]\n",
    "pokemon\n"
   ]
  },
  {
   "cell_type": "code",
   "execution_count": null,
   "id": "3943471a",
   "metadata": {},
   "outputs": [],
   "source": []
  }
 ],
 "metadata": {
  "kernelspec": {
   "display_name": "Python 3 (ipykernel)",
   "language": "python",
   "name": "python3"
  },
  "language_info": {
   "codemirror_mode": {
    "name": "ipython",
    "version": 3
   },
   "file_extension": ".py",
   "mimetype": "text/x-python",
   "name": "python",
   "nbconvert_exporter": "python",
   "pygments_lexer": "ipython3",
   "version": "3.11.5"
  }
 },
 "nbformat": 4,
 "nbformat_minor": 5
}
